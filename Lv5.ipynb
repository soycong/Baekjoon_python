{
 "cells": [
  {
   "cell_type": "code",
   "execution_count": 5,
   "metadata": {},
   "outputs": [
    {
     "name": "stdout",
     "output_type": "stream",
     "text": [
      "5\n",
      "1 2 3 4 5\n",
      "1 5\n"
     ]
    }
   ],
   "source": [
    "#10818\n",
    "n=int(input())\n",
    "arr=list(map(int,input().split()))\n",
    "print(min(arr),max(arr))"
   ]
  },
  {
   "cell_type": "code",
   "execution_count": 20,
   "metadata": {},
   "outputs": [
    {
     "name": "stdout",
     "output_type": "stream",
     "text": [
      "3\n",
      "29\n",
      "38\n",
      "12\n",
      "57\n",
      "74\n",
      "40\n",
      "85\n",
      "61\n",
      "85\n",
      "8\n"
     ]
    }
   ],
   "source": [
    "#2562\n",
    "arr=[int(input())for i in range(9)]\n",
    "print(max(arr))\n",
    "print(arr.index(max(arr))+1)"
   ]
  },
  {
   "cell_type": "code",
   "execution_count": 17,
   "metadata": {},
   "outputs": [
    {
     "name": "stdout",
     "output_type": "stream",
     "text": [
      "150\n",
      "266\n",
      "427\n",
      "3\n",
      "1\n",
      "0\n",
      "2\n",
      "0\n",
      "0\n",
      "0\n",
      "2\n",
      "0\n",
      "0\n"
     ]
    }
   ],
   "source": [
    "#2577\n",
    "a=int(input())\n",
    "b=int(input())\n",
    "c=int(input())\n",
    "s=str(a*b*c)\n",
    "arr=list(s)\n",
    "c=0\n",
    "while c<=9:\n",
    "    n=arr.count(str(c))\n",
    "    c+=1\n",
    "    print(n)"
   ]
  },
  {
   "cell_type": "code",
   "execution_count": 2,
   "metadata": {},
   "outputs": [
    {
     "name": "stdout",
     "output_type": "stream",
     "text": [
      "42\n",
      "84\n",
      "242\n",
      "394\n",
      "4950\n",
      "30409\n",
      "39\n",
      "485\n",
      "5869\n",
      "59\n",
      "9\n"
     ]
    }
   ],
   "source": [
    "#3052\n",
    "arr=[]\n",
    "c=1\n",
    "for i in range(10):\n",
    "    n=int(input())\n",
    "    arr.append((n%42))\n",
    "\n",
    "print(len(set(arr)))"
   ]
  },
  {
   "cell_type": "code",
   "execution_count": null,
   "metadata": {},
   "outputs": [],
   "source": [
    "#1546\n",
    "n=int(input())\n",
    "arr=list(map(int,input().split()))\n",
    "sum=0\n",
    "for i in arr: \n",
    "    i=(i/max(arr))*100\n",
    "    sum+=i\n",
    "avr=sum/n\n",
    "print(avr)"
   ]
  },
  {
   "cell_type": "code",
   "execution_count": 22,
   "metadata": {},
   "outputs": [
    {
     "name": "stdout",
     "output_type": "stream",
     "text": [
      "1\n",
      "OXOXOOOXXXOO\n",
      "['O', 'X', 'O', 'X', 'O', 'O', 'O', 'X', 'X', 'X', 'O', 'O']\n",
      "11\n"
     ]
    }
   ],
   "source": [
    "#8958\n",
    "n=int(input())\n",
    "score=[]\n",
    "for i in range(n):\n",
    "    a=input()\n",
    "    arr=list(a)\n",
    "    s=0\n",
    "    sum=0\n",
    "    for j in arr:\n",
    "        if j=='O':\n",
    "            s+=1\n",
    "            sum+=s\n",
    "        else:\n",
    "            s=0\n",
    "    score.append(sum)\n",
    "    \n",
    "for j in score:\n",
    "    print(j)"
   ]
  },
  {
   "cell_type": "code",
   "execution_count": 1,
   "metadata": {},
   "outputs": [
    {
     "name": "stdout",
     "output_type": "stream",
     "text": [
      "2\n",
      "3 80 90 20\n",
      "3 80 80 80\n",
      "66.667%\n",
      "0.000%\n"
     ]
    }
   ],
   "source": [
    "#4344\n",
    "n=int(input())\n",
    "per=[]\n",
    "for i in range(n):\n",
    "    arr=list(map(int,input().split()))\n",
    "    avr=(sum(arr[1:])/arr[0])\n",
    "    k=0\n",
    "    for j in arr[1:]:\n",
    "        if j>avr:\n",
    "            k+=1\n",
    "    per.append(float(k)/float(arr[0])*100)\n",
    "    \n",
    "for j in per:\n",
    "    print('%.3f%%'%j)"
   ]
  },
  {
   "cell_type": "code",
   "execution_count": null,
   "metadata": {},
   "outputs": [],
   "source": []
  }
 ],
 "metadata": {
  "kernelspec": {
   "display_name": "Python 3",
   "language": "python",
   "name": "python3"
  },
  "language_info": {
   "codemirror_mode": {
    "name": "ipython",
    "version": 3
   },
   "file_extension": ".py",
   "mimetype": "text/x-python",
   "name": "python",
   "nbconvert_exporter": "python",
   "pygments_lexer": "ipython3",
   "version": "3.8.5"
  }
 },
 "nbformat": 4,
 "nbformat_minor": 4
}
